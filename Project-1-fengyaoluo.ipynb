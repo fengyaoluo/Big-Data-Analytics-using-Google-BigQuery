{
 "cells": [
  {
   "cell_type": "markdown",
   "metadata": {},
   "source": [
    "# Lyft Bay Wheels Data Analysis Project "
   ]
  },
  {
   "cell_type": "markdown",
   "metadata": {},
   "source": [
    "## W205 Project 1 Fengyao Luo"
   ]
  },
  {
   "cell_type": "code",
   "execution_count": 2,
   "metadata": {},
   "outputs": [],
   "source": [
    "import pandas as pd\n",
    "import matplotlib.pyplot as plt\n",
    "import seaborn as sns"
   ]
  },
  {
   "cell_type": "markdown",
   "metadata": {},
   "source": [
    "### Background"
   ]
  },
  {
   "cell_type": "markdown",
   "metadata": {},
   "source": [
    "In order to increase the ridership, this project tends to query data from the bikeshare station, status, trips databases, and the visualize the aggregated data to shed lights on customer behaviors. Based on the findings from the data, the recommendations will be provided and presented to the upper management.  "
   ]
  },
  {
   "cell_type": "markdown",
   "metadata": {},
   "source": [
    "### Executive Summary"
   ]
  },
  {
   "cell_type": "markdown",
   "metadata": {},
   "source": [
    "The distribution of trips across days of the week displayed certain pattern. Thus, I defined that trips happened between rush hour during Monday to Friday as the commuter trips. I am able to identify the top 5 commuter trips in the database, and the top 1 is from Harry Bidges Plaze to Embarcadero at Sansome. "
   ]
  },
  {
   "cell_type": "markdown",
   "metadata": {},
   "source": [
    "In the dataset, I pinpointed the stations that have the most customers (non-subscribers) who did commuter trips. I will suggest doing advertising or marketing to these customers, for example, banner and billboards near the station, and introduce them the subscription plan and encourage them to use our products more. 3 months later, we as a team can re-evaluate the percent of subscribers who did commuter trips. "
   ]
  },
  {
   "cell_type": "markdown",
   "metadata": {},
   "source": [
    "I also tried to identify top 10 stations which have the most zero bikes happened in the system. They are all gathered in Sf downtown area. We can do more investigation and try to put more bikes to these locations or have access of the customer database, pop notifications on their apps to offer them discount rides or free rides to these locations. "
   ]
  },
  {
   "cell_type": "markdown",
   "metadata": {},
   "source": [
    "### Data Analysis"
   ]
  },
  {
   "cell_type": "markdown",
   "metadata": {},
   "source": [
    "#### What is the frequency of trips in the sense of day of the week?"
   ]
  },
  {
   "cell_type": "code",
   "execution_count": 5,
   "metadata": {},
   "outputs": [
    {
     "name": "stdout",
     "output_type": "stream",
     "text": [
      "Waiting on bqjob_r6edc81c0e2d38251_00000174d09fb94e_1 ... (0s) Current status: DONE   \n"
     ]
    }
   ],
   "source": [
    "! bq query --use_legacy_sql=FALSE --format=csv  'select extract(dayofweek from DATETIME(start_date,\"America/Los_Angeles\")) as weekday,count(trip_id) as Trip_Count,from `bigquery-public-data.san_francisco.bikeshare_trips` group by weekday order by weekday' > fre_week.csv"
   ]
  },
  {
   "cell_type": "code",
   "execution_count": 6,
   "metadata": {},
   "outputs": [],
   "source": [
    "fre_day_week = pd.read_csv('fre_week.csv')"
   ]
  },
  {
   "cell_type": "code",
   "execution_count": 8,
   "metadata": {},
   "outputs": [
    {
     "data": {
      "text/html": [
       "<div>\n",
       "<style scoped>\n",
       "    .dataframe tbody tr th:only-of-type {\n",
       "        vertical-align: middle;\n",
       "    }\n",
       "\n",
       "    .dataframe tbody tr th {\n",
       "        vertical-align: top;\n",
       "    }\n",
       "\n",
       "    .dataframe thead th {\n",
       "        text-align: right;\n",
       "    }\n",
       "</style>\n",
       "<table border=\"1\" class=\"dataframe\">\n",
       "  <thead>\n",
       "    <tr style=\"text-align: right;\">\n",
       "      <th></th>\n",
       "      <th>weekday</th>\n",
       "      <th>Trip_Count</th>\n",
       "    </tr>\n",
       "  </thead>\n",
       "  <tbody>\n",
       "    <tr>\n",
       "      <th>0</th>\n",
       "      <td>1</td>\n",
       "      <td>58790</td>\n",
       "    </tr>\n",
       "    <tr>\n",
       "      <th>1</th>\n",
       "      <td>2</td>\n",
       "      <td>171181</td>\n",
       "    </tr>\n",
       "    <tr>\n",
       "      <th>2</th>\n",
       "      <td>3</td>\n",
       "      <td>184037</td>\n",
       "    </tr>\n",
       "    <tr>\n",
       "      <th>3</th>\n",
       "      <td>4</td>\n",
       "      <td>180103</td>\n",
       "    </tr>\n",
       "    <tr>\n",
       "      <th>4</th>\n",
       "      <td>5</td>\n",
       "      <td>175816</td>\n",
       "    </tr>\n",
       "    <tr>\n",
       "      <th>5</th>\n",
       "      <td>6</td>\n",
       "      <td>153543</td>\n",
       "    </tr>\n",
       "    <tr>\n",
       "      <th>6</th>\n",
       "      <td>7</td>\n",
       "      <td>60178</td>\n",
       "    </tr>\n",
       "  </tbody>\n",
       "</table>\n",
       "</div>"
      ],
      "text/plain": [
       "   weekday  Trip_Count\n",
       "0        1       58790\n",
       "1        2      171181\n",
       "2        3      184037\n",
       "3        4      180103\n",
       "4        5      175816\n",
       "5        6      153543\n",
       "6        7       60178"
      ]
     },
     "execution_count": 8,
     "metadata": {},
     "output_type": "execute_result"
    }
   ],
   "source": [
    "fre_day_week"
   ]
  },
  {
   "cell_type": "code",
   "execution_count": 3,
   "metadata": {},
   "outputs": [],
   "source": [
    "sns.set()"
   ]
  },
  {
   "cell_type": "code",
   "execution_count": 10,
   "metadata": {},
   "outputs": [
    {
     "data": {
      "text/plain": [
       "<seaborn.axisgrid.FacetGrid at 0x7fe4c7181590>"
      ]
     },
     "execution_count": 10,
     "metadata": {},
     "output_type": "execute_result"
    },
    {
     "data": {
      "image/png": "[encoded data removed]",
      "text/plain": [
       "<Figure size 360x360 with 1 Axes>"
      ]
     },
     "metadata": {},
     "output_type": "display_data"
    }
   ],
   "source": [
    "plt1= sns.catplot(x=\"weekday\", y=\"Trip_Count\", \n",
    "            kind=\"bar\", \n",
    "            data=fre_day_week)\n",
    "\n",
    "plt1.set(title=\"Distribution of Day of the Week\")"
   ]
  },
  {
   "cell_type": "markdown",
   "metadata": {},
   "source": [
    "The graph above displays the distribution of the trips in day of the week. 1 represents Monday and 7 represents Sunday. The bar graph indicates that we have more customers use our bikes from Tuesday to Saturday. "
   ]
  },
  {
   "cell_type": "markdown",
   "metadata": {},
   "source": [
    "#### What is the frequency of trips in the sense of hour of the day?"
   ]
  },
  {
   "cell_type": "code",
   "execution_count": 11,
   "metadata": {},
   "outputs": [
    {
     "name": "stdout",
     "output_type": "stream",
     "text": [
      "Waiting on bqjob_r5411880b8a94a450_00000174d09fd2d8_1 ... (0s) Current status: DONE   \n"
     ]
    }
   ],
   "source": [
    "! bq query --use_legacy_sql=FALSE --format=csv  'select extract(hour from DATETIME(start_date, \"America/Los_Angeles\")) as hour,count(trip_id) as Trip_Count,from `bigquery-public-data.san_francisco.bikeshare_trips` group by hour order by hour' > fre_hour.csv"
   ]
  },
  {
   "cell_type": "code",
   "execution_count": 12,
   "metadata": {},
   "outputs": [],
   "source": [
    "fre_day_hour = pd.read_csv('fre_hour.csv')"
   ]
  },
  {
   "cell_type": "code",
   "execution_count": 13,
   "metadata": {},
   "outputs": [
    {
     "data": {
      "text/html": [
       "<div>\n",
       "<style scoped>\n",
       "    .dataframe tbody tr th:only-of-type {\n",
       "        vertical-align: middle;\n",
       "    }\n",
       "\n",
       "    .dataframe tbody tr th {\n",
       "        vertical-align: top;\n",
       "    }\n",
       "\n",
       "    .dataframe thead th {\n",
       "        text-align: right;\n",
       "    }\n",
       "</style>\n",
       "<table border=\"1\" class=\"dataframe\">\n",
       "  <thead>\n",
       "    <tr style=\"text-align: right;\">\n",
       "      <th></th>\n",
       "      <th>hour</th>\n",
       "      <th>Trip_Count</th>\n",
       "    </tr>\n",
       "  </thead>\n",
       "  <tbody>\n",
       "    <tr>\n",
       "      <th>0</th>\n",
       "      <td>0</td>\n",
       "      <td>86967</td>\n",
       "    </tr>\n",
       "    <tr>\n",
       "      <th>1</th>\n",
       "      <td>1</td>\n",
       "      <td>121939</td>\n",
       "    </tr>\n",
       "    <tr>\n",
       "      <th>2</th>\n",
       "      <td>2</td>\n",
       "      <td>80311</td>\n",
       "    </tr>\n",
       "    <tr>\n",
       "      <th>3</th>\n",
       "      <td>3</td>\n",
       "      <td>41826</td>\n",
       "    </tr>\n",
       "    <tr>\n",
       "      <th>4</th>\n",
       "      <td>4</td>\n",
       "      <td>42292</td>\n",
       "    </tr>\n",
       "    <tr>\n",
       "      <th>5</th>\n",
       "      <td>5</td>\n",
       "      <td>46003</td>\n",
       "    </tr>\n",
       "    <tr>\n",
       "      <th>6</th>\n",
       "      <td>6</td>\n",
       "      <td>41901</td>\n",
       "    </tr>\n",
       "    <tr>\n",
       "      <th>7</th>\n",
       "      <td>7</td>\n",
       "      <td>40761</td>\n",
       "    </tr>\n",
       "    <tr>\n",
       "      <th>8</th>\n",
       "      <td>8</td>\n",
       "      <td>59969</td>\n",
       "    </tr>\n",
       "    <tr>\n",
       "      <th>9</th>\n",
       "      <td>9</td>\n",
       "      <td>98465</td>\n",
       "    </tr>\n",
       "    <tr>\n",
       "      <th>10</th>\n",
       "      <td>10</td>\n",
       "      <td>113412</td>\n",
       "    </tr>\n",
       "    <tr>\n",
       "      <th>11</th>\n",
       "      <td>11</td>\n",
       "      <td>72444</td>\n",
       "    </tr>\n",
       "    <tr>\n",
       "      <th>12</th>\n",
       "      <td>12</td>\n",
       "      <td>36311</td>\n",
       "    </tr>\n",
       "    <tr>\n",
       "      <th>13</th>\n",
       "      <td>13</td>\n",
       "      <td>20567</td>\n",
       "    </tr>\n",
       "    <tr>\n",
       "      <th>14</th>\n",
       "      <td>14</td>\n",
       "      <td>13798</td>\n",
       "    </tr>\n",
       "    <tr>\n",
       "      <th>15</th>\n",
       "      <td>15</td>\n",
       "      <td>9123</td>\n",
       "    </tr>\n",
       "    <tr>\n",
       "      <th>16</th>\n",
       "      <td>16</td>\n",
       "      <td>5291</td>\n",
       "    </tr>\n",
       "    <tr>\n",
       "      <th>17</th>\n",
       "      <td>17</td>\n",
       "      <td>2520</td>\n",
       "    </tr>\n",
       "    <tr>\n",
       "      <th>18</th>\n",
       "      <td>18</td>\n",
       "      <td>1392</td>\n",
       "    </tr>\n",
       "    <tr>\n",
       "      <th>19</th>\n",
       "      <td>19</td>\n",
       "      <td>754</td>\n",
       "    </tr>\n",
       "    <tr>\n",
       "      <th>20</th>\n",
       "      <td>20</td>\n",
       "      <td>784</td>\n",
       "    </tr>\n",
       "    <tr>\n",
       "      <th>21</th>\n",
       "      <td>21</td>\n",
       "      <td>2687</td>\n",
       "    </tr>\n",
       "    <tr>\n",
       "      <th>22</th>\n",
       "      <td>22</td>\n",
       "      <td>9525</td>\n",
       "    </tr>\n",
       "    <tr>\n",
       "      <th>23</th>\n",
       "      <td>23</td>\n",
       "      <td>34606</td>\n",
       "    </tr>\n",
       "  </tbody>\n",
       "</table>\n",
       "</div>"
      ],
      "text/plain": [
       "    hour  Trip_Count\n",
       "0      0       86967\n",
       "1      1      121939\n",
       "2      2       80311\n",
       "3      3       41826\n",
       "4      4       42292\n",
       "5      5       46003\n",
       "6      6       41901\n",
       "7      7       40761\n",
       "8      8       59969\n",
       "9      9       98465\n",
       "10    10      113412\n",
       "11    11       72444\n",
       "12    12       36311\n",
       "13    13       20567\n",
       "14    14       13798\n",
       "15    15        9123\n",
       "16    16        5291\n",
       "17    17        2520\n",
       "18    18        1392\n",
       "19    19         754\n",
       "20    20         784\n",
       "21    21        2687\n",
       "22    22        9525\n",
       "23    23       34606"
      ]
     },
     "execution_count": 13,
     "metadata": {},
     "output_type": "execute_result"
    }
   ],
   "source": [
    "fre_day_hour"
   ]
  },
  {
   "cell_type": "code",
   "execution_count": 14,
   "metadata": {},
   "outputs": [
    {
     "data": {
      "text/plain": [
       "<seaborn.axisgrid.FacetGrid at 0x7fe4c6774cd0>"
      ]
     },
     "execution_count": 14,
     "metadata": {},
     "output_type": "execute_result"
    },
    {
     "data": {
      "image/png": "[encoded data removed]",
      "text/plain": [
       "<Figure size 360x360 with 1 Axes>"
      ]
     },
     "metadata": {},
     "output_type": "display_data"
    }
   ],
   "source": [
    "plt2 = sns.catplot(x=\"hour\", y=\"Trip_Count\", \n",
    "            kind=\"bar\", \n",
    "            data=fre_day_hour)\n",
    "\n",
    "plt2.set(title=\"Distribution of Hour of the Day\")"
   ]
  },
  {
   "cell_type": "markdown",
   "metadata": {},
   "source": [
    "The graph \"Distribution of hour of the day\" indicates that there might be some data error happened around the midnight. I segmented them in the database and verified some records and did UTC change on my end, however, the `extract(hour from DATETIME(start_date,\"America/Los_Angeles\"))` seems to transfer UTC to LA time correctly. I would communicate this back to DBA and figure out what happened. In general, I was tended to find out the pattern of distribution of trips in each hour and identify the \"rush hour\" in SF. \n",
    "\n",
    "Therefore, I am going to use the original UTC and build the distribution graph as follow."
   ]
  },
  {
   "cell_type": "code",
   "execution_count": 5,
   "metadata": {},
   "outputs": [
    {
     "name": "stdout",
     "output_type": "stream",
     "text": [
      "Waiting on bqjob_r40220a91e625b702_00000174d1c2584e_1 ... (0s) Current status: DONE   \n"
     ]
    }
   ],
   "source": [
    "! bq query --use_legacy_sql=FALSE --format=csv  'select extract(hour from start_date) as hour,count(trip_id) as Trip_Count,from `bigquery-public-data.san_francisco.bikeshare_trips` group by hour order by hour' > fre_hour2.csv"
   ]
  },
  {
   "cell_type": "code",
   "execution_count": 6,
   "metadata": {},
   "outputs": [],
   "source": [
    "fre_day_hour2 = pd.read_csv('fre_hour2.csv')"
   ]
  },
  {
   "cell_type": "code",
   "execution_count": 7,
   "metadata": {},
   "outputs": [
    {
     "data": {
      "text/html": [
       "<div>\n",
       "<style scoped>\n",
       "    .dataframe tbody tr th:only-of-type {\n",
       "        vertical-align: middle;\n",
       "    }\n",
       "\n",
       "    .dataframe tbody tr th {\n",
       "        vertical-align: top;\n",
       "    }\n",
       "\n",
       "    .dataframe thead th {\n",
       "        text-align: right;\n",
       "    }\n",
       "</style>\n",
       "<table border=\"1\" class=\"dataframe\">\n",
       "  <thead>\n",
       "    <tr style=\"text-align: right;\">\n",
       "      <th></th>\n",
       "      <th>hour</th>\n",
       "      <th>Trip_Count</th>\n",
       "    </tr>\n",
       "  </thead>\n",
       "  <tbody>\n",
       "    <tr>\n",
       "      <th>0</th>\n",
       "      <td>0</td>\n",
       "      <td>2929</td>\n",
       "    </tr>\n",
       "    <tr>\n",
       "      <th>1</th>\n",
       "      <td>1</td>\n",
       "      <td>1611</td>\n",
       "    </tr>\n",
       "    <tr>\n",
       "      <th>2</th>\n",
       "      <td>2</td>\n",
       "      <td>877</td>\n",
       "    </tr>\n",
       "    <tr>\n",
       "      <th>3</th>\n",
       "      <td>3</td>\n",
       "      <td>605</td>\n",
       "    </tr>\n",
       "    <tr>\n",
       "      <th>4</th>\n",
       "      <td>4</td>\n",
       "      <td>1398</td>\n",
       "    </tr>\n",
       "    <tr>\n",
       "      <th>5</th>\n",
       "      <td>5</td>\n",
       "      <td>5098</td>\n",
       "    </tr>\n",
       "    <tr>\n",
       "      <th>6</th>\n",
       "      <td>6</td>\n",
       "      <td>20519</td>\n",
       "    </tr>\n",
       "    <tr>\n",
       "      <th>7</th>\n",
       "      <td>7</td>\n",
       "      <td>67531</td>\n",
       "    </tr>\n",
       "    <tr>\n",
       "      <th>8</th>\n",
       "      <td>8</td>\n",
       "      <td>132464</td>\n",
       "    </tr>\n",
       "    <tr>\n",
       "      <th>9</th>\n",
       "      <td>9</td>\n",
       "      <td>96118</td>\n",
       "    </tr>\n",
       "    <tr>\n",
       "      <th>10</th>\n",
       "      <td>10</td>\n",
       "      <td>42782</td>\n",
       "    </tr>\n",
       "    <tr>\n",
       "      <th>11</th>\n",
       "      <td>11</td>\n",
       "      <td>40407</td>\n",
       "    </tr>\n",
       "    <tr>\n",
       "      <th>12</th>\n",
       "      <td>12</td>\n",
       "      <td>46950</td>\n",
       "    </tr>\n",
       "    <tr>\n",
       "      <th>13</th>\n",
       "      <td>13</td>\n",
       "      <td>43714</td>\n",
       "    </tr>\n",
       "    <tr>\n",
       "      <th>14</th>\n",
       "      <td>14</td>\n",
       "      <td>37852</td>\n",
       "    </tr>\n",
       "    <tr>\n",
       "      <th>15</th>\n",
       "      <td>15</td>\n",
       "      <td>47626</td>\n",
       "    </tr>\n",
       "    <tr>\n",
       "      <th>16</th>\n",
       "      <td>16</td>\n",
       "      <td>88755</td>\n",
       "    </tr>\n",
       "    <tr>\n",
       "      <th>17</th>\n",
       "      <td>17</td>\n",
       "      <td>126302</td>\n",
       "    </tr>\n",
       "    <tr>\n",
       "      <th>18</th>\n",
       "      <td>18</td>\n",
       "      <td>84569</td>\n",
       "    </tr>\n",
       "    <tr>\n",
       "      <th>19</th>\n",
       "      <td>19</td>\n",
       "      <td>41071</td>\n",
       "    </tr>\n",
       "    <tr>\n",
       "      <th>20</th>\n",
       "      <td>20</td>\n",
       "      <td>22747</td>\n",
       "    </tr>\n",
       "    <tr>\n",
       "      <th>21</th>\n",
       "      <td>21</td>\n",
       "      <td>15258</td>\n",
       "    </tr>\n",
       "    <tr>\n",
       "      <th>22</th>\n",
       "      <td>22</td>\n",
       "      <td>10270</td>\n",
       "    </tr>\n",
       "    <tr>\n",
       "      <th>23</th>\n",
       "      <td>23</td>\n",
       "      <td>6195</td>\n",
       "    </tr>\n",
       "  </tbody>\n",
       "</table>\n",
       "</div>"
      ],
      "text/plain": [
       "    hour  Trip_Count\n",
       "0      0        2929\n",
       "1      1        1611\n",
       "2      2         877\n",
       "3      3         605\n",
       "4      4        1398\n",
       "5      5        5098\n",
       "6      6       20519\n",
       "7      7       67531\n",
       "8      8      132464\n",
       "9      9       96118\n",
       "10    10       42782\n",
       "11    11       40407\n",
       "12    12       46950\n",
       "13    13       43714\n",
       "14    14       37852\n",
       "15    15       47626\n",
       "16    16       88755\n",
       "17    17      126302\n",
       "18    18       84569\n",
       "19    19       41071\n",
       "20    20       22747\n",
       "21    21       15258\n",
       "22    22       10270\n",
       "23    23        6195"
      ]
     },
     "execution_count": 7,
     "metadata": {},
     "output_type": "execute_result"
    }
   ],
   "source": [
    "fre_day_hour2"
   ]
  },
  {
   "cell_type": "code",
   "execution_count": 9,
   "metadata": {},
   "outputs": [
    {
     "data": {
      "text/plain": [
       "<seaborn.axisgrid.FacetGrid at 0x7fe71b332310>"
      ]
     },
     "execution_count": 9,
     "metadata": {},
     "output_type": "execute_result"
    },
    {
     "data": {
      "image/png": "[encoded data removed]",
      "text/plain": [
       "<Figure size 360x360 with 1 Axes>"
      ]
     },
     "metadata": {},
     "output_type": "display_data"
    }
   ],
   "source": [
    "plt2_new = sns.catplot(x=\"hour\", y=\"Trip_Count\", \n",
    "            kind=\"bar\", \n",
    "            data=fre_day_hour2)\n",
    "\n",
    "plt2_new.set(title=\"Distribution of Hour of the Day(New)\")"
   ]
  },
  {
   "cell_type": "markdown",
   "metadata": {},
   "source": [
    "Without converting the UTC to local time, the graph makes more sense. This graph indicates that the morning rush hour happens from 7 to 9 am, and the afternoon rush hour happens between 4 pm to 6 pm. The traffic gradually dies down after 8 pm. Therefore, we have more confidence to define the commuter trip as trips happened between 7 to 9 am and 4 pm to 6 pm between Monday and Friday. "
   ]
  },
  {
   "cell_type": "markdown",
   "metadata": {},
   "source": [
    "#### How many commuter trips in the database?"
   ]
  },
  {
   "cell_type": "code",
   "execution_count": 15,
   "metadata": {},
   "outputs": [
    {
     "name": "stdout",
     "output_type": "stream",
     "text": [
      "Waiting on bqjob_r66b4616edb928d09_00000174d09fed17_1 ... (0s) Current status: DONE   \n"
     ]
    }
   ],
   "source": [
    "! bq query --use_legacy_sql=FALSE --format=csv  'select count(*) from (select *,Case when ((extract(hour from DATETIME(start_date,\"America/Los_Angeles\")) between 7 and 9) or (extract(hour from   DATETIME(start_date,\"America/Los_Angeles\")) between 16 and 18))and extract(dayofweek from  DATETIME(start_date,\"America/Los_Angeles\")) between 1 and 5 Then \"Commuter Trip\" Else \"Non Commuter Trip\" end as CommuterTrip from `bigquery-public-data.san_francisco.bikeshare_trips` ) where CommuterTrip = \"Commuter Trip\"' > comm.csv"
   ]
  },
  {
   "cell_type": "code",
   "execution_count": 16,
   "metadata": {},
   "outputs": [],
   "source": [
    "commuter = pd.read_csv('comm.csv')"
   ]
  },
  {
   "cell_type": "code",
   "execution_count": 17,
   "metadata": {},
   "outputs": [
    {
     "data": {
      "text/html": [
       "<div>\n",
       "<style scoped>\n",
       "    .dataframe tbody tr th:only-of-type {\n",
       "        vertical-align: middle;\n",
       "    }\n",
       "\n",
       "    .dataframe tbody tr th {\n",
       "        vertical-align: top;\n",
       "    }\n",
       "\n",
       "    .dataframe thead th {\n",
       "        text-align: right;\n",
       "    }\n",
       "</style>\n",
       "<table border=\"1\" class=\"dataframe\">\n",
       "  <thead>\n",
       "    <tr style=\"text-align: right;\">\n",
       "      <th></th>\n",
       "      <th>f0_</th>\n",
       "    </tr>\n",
       "  </thead>\n",
       "  <tbody>\n",
       "    <tr>\n",
       "      <th>0</th>\n",
       "      <td>154868</td>\n",
       "    </tr>\n",
       "  </tbody>\n",
       "</table>\n",
       "</div>"
      ],
      "text/plain": [
       "      f0_\n",
       "0  154868"
      ]
     },
     "execution_count": 17,
     "metadata": {},
     "output_type": "execute_result"
    }
   ],
   "source": [
    "commuter"
   ]
  },
  {
   "cell_type": "markdown",
   "metadata": {},
   "source": [
    "Due to the data error we might have in the database, here we defined rush hour as \"trips happened between 7 am - 10 am and 4 pm - 6 pm from Monday to Friday\". Out of 983648 trips we have over 3 years, 154868 (15.7%) of them are commuter trip. \n"
   ]
  },
  {
   "cell_type": "markdown",
   "metadata": {},
   "source": [
    "#### How many users were customers when they were doing commuter trips?"
   ]
  },
  {
   "cell_type": "code",
   "execution_count": 18,
   "metadata": {},
   "outputs": [
    {
     "name": "stdout",
     "output_type": "stream",
     "text": [
      "Waiting on bqjob_r4a0cc7415d481118_00000174d0a000f5_1 ... (0s) Current status: DONE   \n"
     ]
    }
   ],
   "source": [
    "! bq query --use_legacy_sql=FALSE --format=csv  'select subscriber_type, count(*) from (select *,Case when ((extract(hour from DATETIME(start_date, \"America/Los_Angeles\")) between 7 and 9) or (extract(hour from DATETIME(start_date, \"America/Los_Angeles\")) between 16 and 18)) and extract(dayofweek from DATETIME(start_date, \"America/Los_Angeles\")) between 1 and 5 Then \"Commuter Trip\" Else \"Non Commuter Trip\" end as CommuterTrip from `bigquery-public-data.san_francisco.bikeshare_trips` ) where CommuterTrip = \"Commuter Trip\" group by subscriber_type' > customer.csv"
   ]
  },
  {
   "cell_type": "code",
   "execution_count": 19,
   "metadata": {},
   "outputs": [],
   "source": [
    "customer = pd.read_csv('customer.csv')"
   ]
  },
  {
   "cell_type": "code",
   "execution_count": 20,
   "metadata": {},
   "outputs": [
    {
     "data": {
      "text/html": [
       "<div>\n",
       "<style scoped>\n",
       "    .dataframe tbody tr th:only-of-type {\n",
       "        vertical-align: middle;\n",
       "    }\n",
       "\n",
       "    .dataframe tbody tr th {\n",
       "        vertical-align: top;\n",
       "    }\n",
       "\n",
       "    .dataframe thead th {\n",
       "        text-align: right;\n",
       "    }\n",
       "</style>\n",
       "<table border=\"1\" class=\"dataframe\">\n",
       "  <thead>\n",
       "    <tr style=\"text-align: right;\">\n",
       "      <th></th>\n",
       "      <th>subscriber_type</th>\n",
       "      <th>f0_</th>\n",
       "    </tr>\n",
       "  </thead>\n",
       "  <tbody>\n",
       "    <tr>\n",
       "      <th>0</th>\n",
       "      <td>Subscriber</td>\n",
       "      <td>130266</td>\n",
       "    </tr>\n",
       "    <tr>\n",
       "      <th>1</th>\n",
       "      <td>Customer</td>\n",
       "      <td>24602</td>\n",
       "    </tr>\n",
       "  </tbody>\n",
       "</table>\n",
       "</div>"
      ],
      "text/plain": [
       "  subscriber_type     f0_\n",
       "0      Subscriber  130266\n",
       "1        Customer   24602"
      ]
     },
     "execution_count": 20,
     "metadata": {},
     "output_type": "execute_result"
    }
   ],
   "source": [
    "customer"
   ]
  },
  {
   "cell_type": "markdown",
   "metadata": {},
   "source": [
    "Among people who used our product during rush hour, 130266 (84.1%) of them are subscribers, while 24602 (15.9%) of them are customers (who paided by single ride). We can try to do advertising or marketing to these customers, and introduce them the subscription plan and encourage them to use our products more. In order to target these customers, we are going to find the top start and end stations that these customers use, and set up billboards around the bike stations. "
   ]
  },
  {
   "cell_type": "markdown",
   "metadata": {},
   "source": [
    "#### What are the top 5 start and end stations that customers were doing commuter trips?"
   ]
  },
  {
   "cell_type": "code",
   "execution_count": 21,
   "metadata": {},
   "outputs": [
    {
     "name": "stdout",
     "output_type": "stream",
     "text": [
      "Waiting on bqjob_r44084597287eee53_00000174d0a01156_1 ... (0s) Current status: DONE   \n"
     ]
    }
   ],
   "source": [
    "! bq query --use_legacy_sql=FALSE --format=csv  'select start_station_name , count(trip_id ) as counts from `swift-setup-287702.Project1.commuter_customer` group by start_station_name order by counts desc limit 5' > customer_start.csv"
   ]
  },
  {
   "cell_type": "code",
   "execution_count": 22,
   "metadata": {},
   "outputs": [
    {
     "name": "stdout",
     "output_type": "stream",
     "text": [
      "Waiting on bqjob_r55083de015882c31_00000174d0a0197e_1 ... (0s) Current status: DONE   \n"
     ]
    }
   ],
   "source": [
    "! bq query --use_legacy_sql=FALSE --format=csv  'select end_station_name , count(trip_id ) as counts from `swift-setup-287702.Project1.commuter_customer` group by end_station_name  order by counts desc limit 5' > customer_end.csv"
   ]
  },
  {
   "cell_type": "code",
   "execution_count": 23,
   "metadata": {},
   "outputs": [],
   "source": [
    "customer_start_stations = pd.read_csv('customer_start.csv')"
   ]
  },
  {
   "cell_type": "code",
   "execution_count": 24,
   "metadata": {},
   "outputs": [],
   "source": [
    "customer_end_stations = pd.read_csv('customer_end.csv')"
   ]
  },
  {
   "cell_type": "code",
   "execution_count": 25,
   "metadata": {},
   "outputs": [
    {
     "data": {
      "text/html": [
       "<div>\n",
       "<style scoped>\n",
       "    .dataframe tbody tr th:only-of-type {\n",
       "        vertical-align: middle;\n",
       "    }\n",
       "\n",
       "    .dataframe tbody tr th {\n",
       "        vertical-align: top;\n",
       "    }\n",
       "\n",
       "    .dataframe thead th {\n",
       "        text-align: right;\n",
       "    }\n",
       "</style>\n",
       "<table border=\"1\" class=\"dataframe\">\n",
       "  <thead>\n",
       "    <tr style=\"text-align: right;\">\n",
       "      <th></th>\n",
       "      <th>start_station_name</th>\n",
       "      <th>counts</th>\n",
       "    </tr>\n",
       "  </thead>\n",
       "  <tbody>\n",
       "    <tr>\n",
       "      <th>0</th>\n",
       "      <td>Embarcadero at Sansome</td>\n",
       "      <td>13934</td>\n",
       "    </tr>\n",
       "    <tr>\n",
       "      <th>1</th>\n",
       "      <td>Harry Bridges Plaza (Ferry Building)</td>\n",
       "      <td>12441</td>\n",
       "    </tr>\n",
       "    <tr>\n",
       "      <th>2</th>\n",
       "      <td>Market at 4th</td>\n",
       "      <td>5952</td>\n",
       "    </tr>\n",
       "    <tr>\n",
       "      <th>3</th>\n",
       "      <td>Powell Street BART</td>\n",
       "      <td>5214</td>\n",
       "    </tr>\n",
       "    <tr>\n",
       "      <th>4</th>\n",
       "      <td>Embarcadero at Vallejo</td>\n",
       "      <td>4945</td>\n",
       "    </tr>\n",
       "  </tbody>\n",
       "</table>\n",
       "</div>"
      ],
      "text/plain": [
       "                     start_station_name  counts\n",
       "0                Embarcadero at Sansome   13934\n",
       "1  Harry Bridges Plaza (Ferry Building)   12441\n",
       "2                         Market at 4th    5952\n",
       "3                    Powell Street BART    5214\n",
       "4                Embarcadero at Vallejo    4945"
      ]
     },
     "execution_count": 25,
     "metadata": {},
     "output_type": "execute_result"
    }
   ],
   "source": [
    "customer_start_stations"
   ]
  },
  {
   "cell_type": "code",
   "execution_count": 26,
   "metadata": {},
   "outputs": [
    {
     "data": {
      "text/html": [
       "<div>\n",
       "<style scoped>\n",
       "    .dataframe tbody tr th:only-of-type {\n",
       "        vertical-align: middle;\n",
       "    }\n",
       "\n",
       "    .dataframe tbody tr th {\n",
       "        vertical-align: top;\n",
       "    }\n",
       "\n",
       "    .dataframe thead th {\n",
       "        text-align: right;\n",
       "    }\n",
       "</style>\n",
       "<table border=\"1\" class=\"dataframe\">\n",
       "  <thead>\n",
       "    <tr style=\"text-align: right;\">\n",
       "      <th></th>\n",
       "      <th>end_station_name</th>\n",
       "      <th>counts</th>\n",
       "    </tr>\n",
       "  </thead>\n",
       "  <tbody>\n",
       "    <tr>\n",
       "      <th>0</th>\n",
       "      <td>Embarcadero at Sansome</td>\n",
       "      <td>17921</td>\n",
       "    </tr>\n",
       "    <tr>\n",
       "      <th>1</th>\n",
       "      <td>Harry Bridges Plaza (Ferry Building)</td>\n",
       "      <td>11200</td>\n",
       "    </tr>\n",
       "    <tr>\n",
       "      <th>2</th>\n",
       "      <td>Market at 4th</td>\n",
       "      <td>5759</td>\n",
       "    </tr>\n",
       "    <tr>\n",
       "      <th>3</th>\n",
       "      <td>Powell Street BART</td>\n",
       "      <td>5225</td>\n",
       "    </tr>\n",
       "    <tr>\n",
       "      <th>4</th>\n",
       "      <td>Embarcadero at Vallejo</td>\n",
       "      <td>5212</td>\n",
       "    </tr>\n",
       "  </tbody>\n",
       "</table>\n",
       "</div>"
      ],
      "text/plain": [
       "                       end_station_name  counts\n",
       "0                Embarcadero at Sansome   17921\n",
       "1  Harry Bridges Plaza (Ferry Building)   11200\n",
       "2                         Market at 4th    5759\n",
       "3                    Powell Street BART    5225\n",
       "4                Embarcadero at Vallejo    5212"
      ]
     },
     "execution_count": 26,
     "metadata": {},
     "output_type": "execute_result"
    }
   ],
   "source": [
    "customer_end_stations"
   ]
  },
  {
   "cell_type": "markdown",
   "metadata": {},
   "source": [
    "As we can see above, top start and end stations are the same for these customers who took the commuter trips. We can talk to the marketing or the design department and advocate the subscription plan. After putting the banner for 3 months or a month, we can measure how many new subscribers added in the system. "
   ]
  },
  {
   "cell_type": "markdown",
   "metadata": {},
   "source": [
    "#### What are the 5 most popular trips that you would call \"commuter trips\"?"
   ]
  },
  {
   "cell_type": "code",
   "execution_count": 67,
   "metadata": {},
   "outputs": [
    {
     "name": "stdout",
     "output_type": "stream",
     "text": [
      "Waiting on bqjob_r3da2c9427eaf0d3f_00000174d0aeddbc_1 ... (0s) Current status: DONE   \n"
     ]
    }
   ],
   "source": [
    "! bq query --use_legacy_sql=FALSE --format=csv 'select concat(start_station_id,\"-\",end_station_id), start_station_name , end_station_name ,count(trip_id ) as count from(   select *,Case  when ((extract(hour from DATETIME(start_date, \"America/Los_Angeles\")) between 7 and 9) or (extract(hour from DATETIME(start_date, \"America/Los_Angeles\")) between 16 and 18)) and extract(dayofweek from DATETIME(start_date, \"America/Los_Angeles\")) between 1 and 5 Then \"Commuter Trip\" Else \"Non Commuter Trip\" end as CommuterTrip from `bigquery-public-data.san_francisco.bikeshare_trips` ) group by concat(start_station_id,\"-\",end_station_id), start_station_name , end_station_name order by count desc limit 5' > top5_trips.csv"
   ]
  },
  {
   "cell_type": "code",
   "execution_count": 68,
   "metadata": {},
   "outputs": [],
   "source": [
    "top5_commuter_trips = pd.read_csv('top5_trips.csv')"
   ]
  },
  {
   "cell_type": "code",
   "execution_count": 69,
   "metadata": {},
   "outputs": [
    {
     "data": {
      "text/html": [
       "<div>\n",
       "<style scoped>\n",
       "    .dataframe tbody tr th:only-of-type {\n",
       "        vertical-align: middle;\n",
       "    }\n",
       "\n",
       "    .dataframe tbody tr th {\n",
       "        vertical-align: top;\n",
       "    }\n",
       "\n",
       "    .dataframe thead th {\n",
       "        text-align: right;\n",
       "    }\n",
       "</style>\n",
       "<table border=\"1\" class=\"dataframe\">\n",
       "  <thead>\n",
       "    <tr style=\"text-align: right;\">\n",
       "      <th></th>\n",
       "      <th>f0_</th>\n",
       "      <th>start_station_name</th>\n",
       "      <th>end_station_name</th>\n",
       "      <th>count</th>\n",
       "    </tr>\n",
       "  </thead>\n",
       "  <tbody>\n",
       "    <tr>\n",
       "      <th>0</th>\n",
       "      <td>50-60</td>\n",
       "      <td>Harry Bridges Plaza (Ferry Building)</td>\n",
       "      <td>Embarcadero at Sansome</td>\n",
       "      <td>9150</td>\n",
       "    </tr>\n",
       "    <tr>\n",
       "      <th>1</th>\n",
       "      <td>69-65</td>\n",
       "      <td>San Francisco Caltrain 2 (330 Townsend)</td>\n",
       "      <td>Townsend at 7th</td>\n",
       "      <td>8508</td>\n",
       "    </tr>\n",
       "    <tr>\n",
       "      <th>2</th>\n",
       "      <td>61-50</td>\n",
       "      <td>2nd at Townsend</td>\n",
       "      <td>Harry Bridges Plaza (Ferry Building)</td>\n",
       "      <td>7620</td>\n",
       "    </tr>\n",
       "    <tr>\n",
       "      <th>3</th>\n",
       "      <td>50-61</td>\n",
       "      <td>Harry Bridges Plaza (Ferry Building)</td>\n",
       "      <td>2nd at Townsend</td>\n",
       "      <td>6888</td>\n",
       "    </tr>\n",
       "    <tr>\n",
       "      <th>4</th>\n",
       "      <td>60-74</td>\n",
       "      <td>Embarcadero at Sansome</td>\n",
       "      <td>Steuart at Market</td>\n",
       "      <td>6874</td>\n",
       "    </tr>\n",
       "  </tbody>\n",
       "</table>\n",
       "</div>"
      ],
      "text/plain": [
       "     f0_                       start_station_name  \\\n",
       "0  50-60     Harry Bridges Plaza (Ferry Building)   \n",
       "1  69-65  San Francisco Caltrain 2 (330 Townsend)   \n",
       "2  61-50                          2nd at Townsend   \n",
       "3  50-61     Harry Bridges Plaza (Ferry Building)   \n",
       "4  60-74                   Embarcadero at Sansome   \n",
       "\n",
       "                       end_station_name  count  \n",
       "0                Embarcadero at Sansome   9150  \n",
       "1                       Townsend at 7th   8508  \n",
       "2  Harry Bridges Plaza (Ferry Building)   7620  \n",
       "3                       2nd at Townsend   6888  \n",
       "4                     Steuart at Market   6874  "
      ]
     },
     "execution_count": 69,
     "metadata": {},
     "output_type": "execute_result"
    }
   ],
   "source": [
    "top5_commuter_trips"
   ]
  },
  {
   "cell_type": "markdown",
   "metadata": {},
   "source": [
    "#### What are the top 10 stations which zero bike available happened the most times there?"
   ]
  },
  {
   "cell_type": "code",
   "execution_count": 70,
   "metadata": {},
   "outputs": [
    {
     "name": "stdout",
     "output_type": "stream",
     "text": [
      "Waiting on bqjob_r75f1f5646f7b112d_00000174d0aeffea_1 ... (0s) Current status: DONE   \n"
     ]
    }
   ],
   "source": [
    "! bq query --use_legacy_sql=FALSE --format=csv 'select status.station_id, name, count(status.bikes_available ) as counts, station.longitude , station.latitude , station.landmark from `bigquery-public-data.san_francisco.bikeshare_status` as status left join `bigquery-public-data.san_francisco.bikeshare_stations` as station on status.station_id = station.station_id where bikes_available = 0  group by station_id, name, station.longitude , station.latitude , station.landmark  order by counts desc limit 10' > zero_bike.csv"
   ]
  },
  {
   "cell_type": "code",
   "execution_count": 71,
   "metadata": {},
   "outputs": [],
   "source": [
    "top10_zero_bike = pd.read_csv('zero_bike.csv')"
   ]
  },
  {
   "cell_type": "code",
   "execution_count": 72,
   "metadata": {},
   "outputs": [
    {
     "data": {
      "text/html": [
       "<div>\n",
       "<style scoped>\n",
       "    .dataframe tbody tr th:only-of-type {\n",
       "        vertical-align: middle;\n",
       "    }\n",
       "\n",
       "    .dataframe tbody tr th {\n",
       "        vertical-align: top;\n",
       "    }\n",
       "\n",
       "    .dataframe thead th {\n",
       "        text-align: right;\n",
       "    }\n",
       "</style>\n",
       "<table border=\"1\" class=\"dataframe\">\n",
       "  <thead>\n",
       "    <tr style=\"text-align: right;\">\n",
       "      <th></th>\n",
       "      <th>station_id</th>\n",
       "      <th>name</th>\n",
       "      <th>counts</th>\n",
       "      <th>longitude</th>\n",
       "      <th>latitude</th>\n",
       "      <th>landmark</th>\n",
       "    </tr>\n",
       "  </thead>\n",
       "  <tbody>\n",
       "    <tr>\n",
       "      <th>0</th>\n",
       "      <td>62</td>\n",
       "      <td>2nd at Folsom</td>\n",
       "      <td>44844</td>\n",
       "      <td>-122.396236</td>\n",
       "      <td>37.785299</td>\n",
       "      <td>San Francisco</td>\n",
       "    </tr>\n",
       "    <tr>\n",
       "      <th>1</th>\n",
       "      <td>45</td>\n",
       "      <td>Commercial at Montgomery</td>\n",
       "      <td>44728</td>\n",
       "      <td>-122.402923</td>\n",
       "      <td>37.794231</td>\n",
       "      <td>San Francisco</td>\n",
       "    </tr>\n",
       "    <tr>\n",
       "      <th>2</th>\n",
       "      <td>48</td>\n",
       "      <td>Embarcadero at Vallejo</td>\n",
       "      <td>35903</td>\n",
       "      <td>-122.398525</td>\n",
       "      <td>37.799953</td>\n",
       "      <td>San Francisco</td>\n",
       "    </tr>\n",
       "    <tr>\n",
       "      <th>3</th>\n",
       "      <td>60</td>\n",
       "      <td>Embarcadero at Sansome</td>\n",
       "      <td>32980</td>\n",
       "      <td>-122.403234</td>\n",
       "      <td>37.804770</td>\n",
       "      <td>San Francisco</td>\n",
       "    </tr>\n",
       "    <tr>\n",
       "      <th>4</th>\n",
       "      <td>41</td>\n",
       "      <td>Clay at Battery</td>\n",
       "      <td>32505</td>\n",
       "      <td>-122.399970</td>\n",
       "      <td>37.795001</td>\n",
       "      <td>San Francisco</td>\n",
       "    </tr>\n",
       "    <tr>\n",
       "      <th>5</th>\n",
       "      <td>70</td>\n",
       "      <td>San Francisco Caltrain (Townsend at 4th)</td>\n",
       "      <td>32027</td>\n",
       "      <td>-122.395260</td>\n",
       "      <td>37.776617</td>\n",
       "      <td>San Francisco</td>\n",
       "    </tr>\n",
       "    <tr>\n",
       "      <th>6</th>\n",
       "      <td>73</td>\n",
       "      <td>Grant Avenue at Columbus Avenue</td>\n",
       "      <td>31733</td>\n",
       "      <td>-122.405942</td>\n",
       "      <td>37.797900</td>\n",
       "      <td>San Francisco</td>\n",
       "    </tr>\n",
       "    <tr>\n",
       "      <th>7</th>\n",
       "      <td>76</td>\n",
       "      <td>Market at 4th</td>\n",
       "      <td>30800</td>\n",
       "      <td>-122.404966</td>\n",
       "      <td>37.786305</td>\n",
       "      <td>San Francisco</td>\n",
       "    </tr>\n",
       "    <tr>\n",
       "      <th>8</th>\n",
       "      <td>63</td>\n",
       "      <td>Howard at 2nd</td>\n",
       "      <td>27938</td>\n",
       "      <td>-122.398108</td>\n",
       "      <td>37.786978</td>\n",
       "      <td>San Francisco</td>\n",
       "    </tr>\n",
       "    <tr>\n",
       "      <th>9</th>\n",
       "      <td>82</td>\n",
       "      <td>Broadway St at Battery St</td>\n",
       "      <td>25496</td>\n",
       "      <td>-122.400862</td>\n",
       "      <td>37.798541</td>\n",
       "      <td>San Francisco</td>\n",
       "    </tr>\n",
       "  </tbody>\n",
       "</table>\n",
       "</div>"
      ],
      "text/plain": [
       "   station_id                                      name  counts   longitude  \\\n",
       "0          62                             2nd at Folsom   44844 -122.396236   \n",
       "1          45                  Commercial at Montgomery   44728 -122.402923   \n",
       "2          48                    Embarcadero at Vallejo   35903 -122.398525   \n",
       "3          60                    Embarcadero at Sansome   32980 -122.403234   \n",
       "4          41                           Clay at Battery   32505 -122.399970   \n",
       "5          70  San Francisco Caltrain (Townsend at 4th)   32027 -122.395260   \n",
       "6          73           Grant Avenue at Columbus Avenue   31733 -122.405942   \n",
       "7          76                             Market at 4th   30800 -122.404966   \n",
       "8          63                             Howard at 2nd   27938 -122.398108   \n",
       "9          82                 Broadway St at Battery St   25496 -122.400862   \n",
       "\n",
       "    latitude       landmark  \n",
       "0  37.785299  San Francisco  \n",
       "1  37.794231  San Francisco  \n",
       "2  37.799953  San Francisco  \n",
       "3  37.804770  San Francisco  \n",
       "4  37.795001  San Francisco  \n",
       "5  37.776617  San Francisco  \n",
       "6  37.797900  San Francisco  \n",
       "7  37.786305  San Francisco  \n",
       "8  37.786978  San Francisco  \n",
       "9  37.798541  San Francisco  "
      ]
     },
     "execution_count": 72,
     "metadata": {},
     "output_type": "execute_result"
    }
   ],
   "source": [
    "top10_zero_bike"
   ]
  },
  {
   "cell_type": "markdown",
   "metadata": {},
   "source": [
    "Now, we find the top 10 stations which have the most of zero bike status happened in the system. They are all gathered in Sf downtown area. We can do more investigation and try to put more bikes to these locations or have access of the customer database, pop notifications on their apps to offer them discount ride or free ride to these locations. "
   ]
  },
  {
   "cell_type": "markdown",
   "metadata": {},
   "source": [
    "Overall, this report defined the commuter trips, provide 2 suggestions as a data analyst in the team: \n",
    "1. recommended set up banner or billboards at certain stations to advertise our subscription plan, in order to encourage more customers to use our products. \n",
    "2. pinpointed 10 stations which have zero bike status showing up most of times in the system, we will suggest adding more bikes or advertise free rides or discount rides to these locations. "
   ]
  }
 ],
 "metadata": {
  "environment": {
   "name": "tf2-2-3-gpu.2-3.m55",
   "type": "gcloud",
   "uri": "gcr.io/deeplearning-platform-release/tf2-2-3-gpu.2-3:m55"
  },
  "kernelspec": {
   "display_name": "Python 3",
   "language": "python",
   "name": "python3"
  },
  "language_info": {
   "codemirror_mode": {
    "name": "ipython",
    "version": 3
   },
   "file_extension": ".py",
   "mimetype": "text/x-python",
   "name": "python",
   "nbconvert_exporter": "python",
   "pygments_lexer": "ipython3",
   "version": "3.7.8"
  }
 },
 "nbformat": 4,
 "nbformat_minor": 4
}
